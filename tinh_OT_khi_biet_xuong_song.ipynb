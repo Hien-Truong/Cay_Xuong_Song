{
 "cells": [
  {
   "cell_type": "code",
   "execution_count": 1,
   "metadata": {},
   "outputs": [
    {
     "name": "stdout",
     "output_type": "stream",
     "text": [
      "Danh sách các biến và giá trị của chúng:\n",
      "[('x1', (1, 4), -3), ('x2', (2, 3), 2), ('x3', (4, 2), 1), ('x4', (5, 5), 0)]\n",
      "Các điểm hình chiếu lên đường thẳng x = 2.5:\n",
      "[('p1', (2.5, 4), 0), ('p2', (2.5, 3), 0), ('p3', (2.5, 2), 0), ('p4', (2.5, 5), 0)]\n"
     ]
    }
   ],
   "source": [
    "import networkx as nx\n",
    "import matplotlib.pyplot as plt\n",
    "import math\n",
    "import numpy as np\n",
    "# Tọa độ của các điểm\n",
    "x = [ (1, 4), (2, 3), (4, 2), (5, 5)]\n",
    "\n",
    "x_ot = 2.5 # đường xương sống\n",
    "weight_x =[-3, 2, 1, 0]\n",
    "#tạo hai danh sách biến và hình chiếu tương ứng data_ponint, projecton\n",
    "# danh sach bien\n",
    "data_point =[]\n",
    "for i in range(len (x) ):\n",
    "    data_point.append( (f'x{i+1}',x[i], weight_x[i])) \n",
    "\n",
    "\n",
    "#hình chiếu\n",
    "projections = []\n",
    "\n",
    "# Tính toán các điểm hình chiếu và đặt tên\n",
    "for i, point in enumerate(x , start=1):\n",
    "    # Giữ nguyên y và thay đổi x thành 2.5\n",
    "    projected_point = (x_ot, point[1])\n",
    "    projections.append((f\"p{i}\", projected_point, 0))  # Thêm tuple vào danh sách\n",
    "\n",
    "print(\"Danh sách các biến và giá trị của chúng:\")\n",
    "print(data_point) # Tạo danh sách x1, x2, x3\n",
    "\n",
    "print(\"Các điểm hình chiếu lên đường thẳng x = 2.5:\")\n",
    "print(projections)"
   ]
  },
  {
   "cell_type": "code",
   "execution_count": 2,
   "metadata": {},
   "outputs": [
    {
     "name": "stdout",
     "output_type": "stream",
     "text": [
      "[('p4', (2.5, 5), 0), ('p1', (2.5, 4), 0), ('p2', (2.5, 3), 0), ('p3', (2.5, 2), 0)]\n"
     ]
    }
   ],
   "source": [
    "# Tạo đồ thị có hướng\n",
    "G = nx.DiGraph()\n",
    "# Sắp xếp và lấy tên biến\n",
    "sorted_proj = sorted(projections, key=lambda item: item[1][1], reverse=True)\n",
    "sorted_names = [item[0] for item in sorted_proj]\n",
    "p = sorted_proj\n",
    "print(p)\n",
    "\n"
   ]
  },
  {
   "cell_type": "code",
   "execution_count": 3,
   "metadata": {},
   "outputs": [],
   "source": [
    "# Thêm các đỉnh vào đồ thị và gán trọng số\n",
    "def add_node (list_of_points):\n",
    "   for i in range(len(list_of_points)):\n",
    "      G.add_node(list_of_points[i][0], pos = list_of_points[i][1], weight= list_of_points[i][2] )\n",
    "\n",
    "add_node (data_point)\n",
    "add_node (projections)\n",
    "\n",
    "# Hàm tính khoảng cách Euclid\n",
    "def euclidean_distance(point1, point2):\n",
    "    return math.sqrt((point1[0] - point2[0])**2 + (point1[1] - point2[1])**2)\n",
    "\n",
    "\n",
    "for i in range(len(p)-1):\n",
    "   G.add_edge(p[i][0], p[i+1][0], weight=euclidean_distance(p[i][1], p[i+1][1]))  # Kết nối p1 với p2, p2 với p3\n",
    "\n",
    "#Ham noi hinh chieu voi x\n",
    "def add_canh_proj_x (danh_sach_proj,danh_sach_bien):\n",
    "   for i in range(len(danh_sach_proj)):\n",
    "      G.add_edge (danh_sach_proj[i][0], danh_sach_bien[i][0], weight = euclidean_distance(danh_sach_proj[i][1], danh_sach_bien[i][1]))\n",
    "\n",
    "# Thêm cạnh nối giữa các điểm hình chiếu (tạo thành cây)\n",
    "add_canh_proj_x(projections, data_point)"
   ]
  },
  {
   "cell_type": "code",
   "execution_count": 4,
   "metadata": {},
   "outputs": [
    {
     "data": {
      "image/png": "[encoded data removed]",
      "text/plain": [
       "<Figure size 640x480 with 1 Axes>"
      ]
     },
     "metadata": {},
     "output_type": "display_data"
    }
   ],
   "source": [
    "\n",
    "\n",
    "\n",
    "pos = nx.get_node_attributes(G, 'pos') # Lấy vị trí của các đỉnh\n",
    "edge_labels = nx.get_edge_attributes(G, 'weight') # Lấy trọng số của các cạnh\n",
    "node_weights = nx.get_node_attributes(G, 'weight') # Lấy trọng số của các đỉnh\n",
    "\n",
    "# Vẽ đồ thị\n",
    "nx.draw(G, pos, with_labels=True, node_size=500, node_color='lightblue', font_size=10, font_weight='bold', edge_color='gray', arrows=True)\n",
    "\n",
    "# Vẽ trọng số trên các cạnh\n",
    "nx.draw_networkx_edge_labels(G, pos, edge_labels=edge_labels, font_color='blue')\n",
    "\n",
    "# Vẽ trọng số trên các đỉnh\n",
    "for node, (x, y) in pos.items():\n",
    "    plt.text(x, y + 0.15, f'w={node_weights[node]}', fontsize=9, ha='center', color='darkgreen')\n",
    "\n",
    "# Vẽ đường thẳng x = 2.5\n",
    "plt.axvline(x=2.5, color='purple', linestyle='--', label='x = 2.5')\n",
    "\n",
    "# Hiển thị chú thích\n",
    "plt.legend()\n",
    "\n",
    "# Đặt tiêu đề cho đồ thị\n",
    "plt.title(\"Đồ thị cây có hướng với trọng số các đỉnh và cạnh\")\n",
    "\n",
    "# Hiển thị đồ thị\n",
    "plt.show()\n"
   ]
  },
  {
   "cell_type": "code",
   "execution_count": 5,
   "metadata": {},
   "outputs": [],
   "source": [
    "\n",
    "# Hàm DFS để xác định cây con\n",
    "def dfs_subtree(graph, start_node):\n",
    "    visited = set()\n",
    "    stack = [start_node]\n",
    "    subtree_nodes = set()\n",
    "\n",
    "    while stack:\n",
    "        node = stack.pop()\n",
    "        if node not in visited:\n",
    "            visited.add(node)\n",
    "            subtree_nodes.add(node)\n",
    "            stack.extend([n for n in graph.successors(node) if n not in visited])\n",
    "\n",
    "    return subtree_nodes\n"
   ]
  },
  {
   "cell_type": "code",
   "execution_count": 6,
   "metadata": {},
   "outputs": [
    {
     "name": "stdout",
     "output_type": "stream",
     "text": [
      "Gốc của cây lớn ban đầu là: p4\n",
      "Các đỉnh của cây lớn có gốc là p4: {'p4', 'x2', 'x3', 'x1', 'p3', 'x4', 'p1', 'p2'}\n",
      "Các đỉnh của cây con có gốc là p2: {'x3', 'p2', 'x2', 'p3'}\n",
      "Trọng số của cây con có gốc là p2: 3\n",
      "Độ dài cạnh (p1, x1) là: 1.5\n",
      "Trọng số của đỉnh x1 là: -3\n"
     ]
    }
   ],
   "source": [
    "\n",
    "# Xác định gốc của cây lớn ban đầu (điểm hình chiếu có tung độ lớn nhất)\n",
    "# Lấy danh sách các nút hình chiếu\n",
    "projection_nodes = [node for node in G.nodes if node.startswith('p')]\n",
    "\n",
    "# Xác định gốc của cây lớn ban đầu\n",
    "root = max(projection_nodes, key=lambda k: G.nodes[k]['pos'][1])\n",
    "print(f\"Gốc của cây lớn ban đầu là: {root}\")\n",
    "\n",
    "\n",
    "# Xác định cây lớn ban đầu có gốc là root (p1)\n",
    "tree_nodes = dfs_subtree(G, root)\n",
    "print(f\"Các đỉnh của cây lớn có gốc là {root}: {tree_nodes}\")\n",
    "\n",
    "# Xác định cây con có gốc là p3\n",
    "subtree_root = \"p2\"\n",
    "subtree_nodes = dfs_subtree(G, subtree_root)\n",
    "print(f\"Các đỉnh của cây con có gốc là {subtree_root}: {subtree_nodes}\")\n",
    "\n",
    "# Tính tổng trọng số của cây con\n",
    "subtree_weight = sum(G.nodes[node]['weight'] for node in subtree_nodes)\n",
    "print(f\"Trọng số của cây con có gốc là {subtree_root}: {subtree_weight}\")\n",
    "\n",
    "# In ra độ dài cạnh (p1, x1)\n",
    "edge_length_p1_x1 = G[\"p1\"][\"x1\"][\"weight\"]\n",
    "print(f\"Độ dài cạnh (p1, x1) là: {edge_length_p1_x1}\")\n",
    "\n",
    "# In ra trọng số của các đỉnh x1, x2, x3\n",
    "print(f\"Trọng số của đỉnh x1 là: {G.nodes['x1']['weight']}\")"
   ]
  },
  {
   "cell_type": "code",
   "execution_count": 7,
   "metadata": {},
   "outputs": [
    {
     "name": "stdout",
     "output_type": "stream",
     "text": [
      "['x1', 'x2', 'x3', 'x4', 'p1', 'p2', 'p3', 'p4']\n"
     ]
    }
   ],
   "source": [
    "dinh = data_point + projections\n",
    "ds_dinh = []\n",
    "for key, value, weight in dinh:\n",
    "    ds_dinh.append(key)\n",
    "print(ds_dinh)"
   ]
  },
  {
   "cell_type": "code",
   "execution_count": 8,
   "metadata": {},
   "outputs": [
    {
     "name": "stdout",
     "output_type": "stream",
     "text": [
      "Ma trận trọng số của tất cả các cây con (1 dòng):\n",
      "[-3  2  1  0  0  3  1  0]\n"
     ]
    }
   ],
   "source": [
    "subtree_weight_matrix = []\n",
    "for subtree_root in ds_dinh:\n",
    "    subtree_nodes = dfs_subtree(G, subtree_root)\n",
    "    subtree_weight = sum(G.nodes[node]['weight'] for node in subtree_nodes)\n",
    "    subtree_weight_matrix.append(subtree_weight)\n",
    "subtree_weight_matrix = np.array(subtree_weight_matrix)\n",
    "print(\"Ma trận trọng số của tất cả các cây con (1 dòng):\")\n",
    "print(subtree_weight_matrix)\n"
   ]
  },
  {
   "cell_type": "code",
   "execution_count": 9,
   "metadata": {},
   "outputs": [
    {
     "name": "stdout",
     "output_type": "stream",
     "text": [
      "[('p1', 'p2'), ('p1', 'x1'), ('p2', 'p3'), ('p2', 'x2'), ('p3', 'x3'), ('p4', 'p1'), ('p4', 'x4')]\n",
      "loại dl: <class 'networkx.classes.reportviews.OutEdgeView'>\n",
      "đỉnh:  ['x1', 'x2', 'x3', 'x4', 'p1', 'p2', 'p3', 'p4']\n"
     ]
    }
   ],
   "source": [
    "\n",
    "# Giả sử bạn đã có đồ thị G và các điểm dữ liệu\n",
    "\n",
    "# Khởi tạo danh sách edges_order theo thứ tự mong muốn\n",
    "edges_order = G.edges\n",
    "print(edges_order)\n",
    "print('loại dl:', type(edges_order))\n",
    "print('đỉnh: ', G.nodes)\n"
   ]
  },
  {
   "cell_type": "code",
   "execution_count": 10,
   "metadata": {},
   "outputs": [
    {
     "name": "stdout",
     "output_type": "stream",
     "text": [
      "Trọng số của các cạnh đi vào từng đỉnh:\n",
      "Trọng số cạnh đi vào đỉnh x1: 1.5\n",
      "Trọng số cạnh đi vào đỉnh x2: 0.5\n",
      "Trọng số cạnh đi vào đỉnh x3: 1.5\n",
      "Trọng số cạnh đi vào đỉnh x4: 2.5\n",
      "Trọng số cạnh đi vào đỉnh p1: 1.0\n",
      "Trọng số cạnh đi vào đỉnh p2: 1.0\n",
      "Trọng số cạnh đi vào đỉnh p3: 1.0\n",
      "Trọng số cạnh đi vào đỉnh p4: 0\n"
     ]
    }
   ],
   "source": [
    "\n",
    "\n",
    "# Tạo từ điển để lưu trọng số của các cạnh đi vào từng đỉnh\n",
    "incoming_weights = {}\n",
    "\n",
    "# Tính toán trọng số của các cạnh đi vào từng đỉnh\n",
    "for node in ds_dinh:\n",
    "    incoming_edges = G.in_edges(node, data=True)  # Lấy các cạnh đi vào đỉnh\n",
    "    if incoming_edges:  # Nếu có cạnh đi vào\n",
    "        total_weight = sum(data['weight'] for _, _, data in incoming_edges)\n",
    "    else:  # Nếu không có cạnh đi vào\n",
    "        total_weight = 0\n",
    "    incoming_weights[node] = total_weight\n",
    "print(\"Trọng số của các cạnh đi vào từng đỉnh:\")\n",
    "for node, weight in incoming_weights.items():\n",
    "    print(f\"Trọng số cạnh đi vào đỉnh {node}: {weight}\")\n",
    "    # Tạo ma trận với một dòng chứa các trọng số\n",
    "weights_array = np.array([incoming_weights[node] for node in ds_dinh])"
   ]
  },
  {
   "cell_type": "code",
   "execution_count": 11,
   "metadata": {},
   "outputs": [
    {
     "name": "stdout",
     "output_type": "stream",
     "text": [
      "matran trong so dinh:  [-3  2  1  0  0  3  1  0]\n",
      "ma trsn canh: [1.5 0.5 1.5 2.5 1.  1.  1.  0. ]\n",
      "11.0\n"
     ]
    }
   ],
   "source": [
    "print('matran trong so dinh: ', subtree_weight_matrix)\n",
    "print('ma trsn canh:', weights_array)\n",
    "subtree_weight_matrix_abs = np.abs(subtree_weight_matrix) # lay gia tri tuyet doi trong so cay\n",
    "OT= np.dot(weights_array, subtree_weight_matrix_abs.T)\n",
    "print(OT)"
   ]
  }
 ],
 "metadata": {
  "kernelspec": {
   "display_name": "Python 3",
   "language": "python",
   "name": "python3"
  },
  "language_info": {
   "codemirror_mode": {
    "name": "ipython",
    "version": 3
   },
   "file_extension": ".py",
   "mimetype": "text/x-python",
   "name": "python",
   "nbconvert_exporter": "python",
   "pygments_lexer": "ipython3",
   "version": "3.13.1"
  }
 },
 "nbformat": 4,
 "nbformat_minor": 2
}
