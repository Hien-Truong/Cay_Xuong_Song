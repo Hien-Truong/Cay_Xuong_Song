{
 "cells": [
  {
   "cell_type": "code",
   "execution_count": null,
   "metadata": {},
   "outputs": [
    {
     "data": {
      "image/png": "[encoded data removed]",
      "text/plain": [
       "<Figure size 640x480 with 1 Axes>"
      ]
     },
     "metadata": {},
     "output_type": "display_data"
    }
   ],
   "source": [
    "import networkx as nx\n",
    "import matplotlib.pyplot as plt\n",
    "import math\n",
    "\n",
    "# Tọa độ của các điểm\n",
    "x1 = (1, 1)\n",
    "x2 = (2, 4)\n",
    "x3 = (3, 2)\n",
    "x4 = (-1, 2.5)\n",
    "\n",
    "# Hình chiếu của các điểm lên đường thẳng x = 2.5\n",
    "p1 = (2.5, 1)  # Hình chiếu của x1\n",
    "p2 = (2.5, 4)  # Hình chiếu của x2\n",
    "p3 = (2.5, 2)  # Hình chiếu của x3\n",
    "p4 = (2.5, 2.5)\n",
    "# Tạo đồ thị có hướng\n",
    "G = nx.DiGraph()\n",
    "\n",
    "# Thêm các đỉnh vào đồ thị và gán trọng số\n",
    "G.add_node(\"x1\", pos=x1, weight=2)\n",
    "G.add_node(\"x2\", pos=x2, weight=-1)\n",
    "G.add_node(\"x3\", pos=x3, weight=3)\n",
    "G.add_node(\"x4\", pos=x3, weight=-4)\n",
    "G.add_node(\"p1\", pos=p1, weight=0)\n",
    "G.add_node(\"p2\", pos=p2, weight=0)\n",
    "G.add_node(\"p3\", pos=p3, weight=0)\n",
    "G.add_node(\"p4\", pos=p4, weight=0)\n",
    "# Hàm tính khoảng cách Euclid\n",
    "def euclidean_distance(point1, point2):\n",
    "    return math.sqrt((point1[0] - point2[0])**2 + (point1[1] - point2[1])**2)\n",
    "\n",
    "# Thêm các cạnh vào đồ thị với trọng số là khoảng cách\n",
    "G.add_edge(\"p1\", \"x1\", weight=euclidean_distance(p1, x1))\n",
    "G.add_edge(\"p2\", \"x2\", weight=euclidean_distance(p2, x2))\n",
    "G.add_edge(\"p3\", \"x3\", weight=euclidean_distance(p3, x3))\n",
    "\n",
    "# Thêm cạnh nối giữa các điểm hình chiếu (tạo thành cây)\n",
    "G.add_edge(\"p1\", \"p2\", weight=euclidean_distance(p1, p2))\n",
    "G.add_edge(\"p2\", \"p3\", weight=euclidean_distance(p2, p3))\n",
    "\n",
    "# Lấy vị trí của các đỉnh\n",
    "pos = nx.get_node_attributes(G, 'pos')\n",
    "\n",
    "# Lấy trọng số của các cạnh\n",
    "edge_labels = nx.get_edge_attributes(G, 'weight')\n",
    "\n",
    "# Lấy trọng số của các đỉnh\n",
    "node_weights = nx.get_node_attributes(G, 'weight')\n",
    "\n",
    "# Vẽ đồ thị\n",
    "nx.draw(G, pos, with_labels=True, node_size=500, node_color='lightblue', font_size=10, font_weight='bold', edge_color='gray', arrows=True)\n",
    "\n",
    "# Vẽ trọng số trên các cạnh\n",
    "nx.draw_networkx_edge_labels(G, pos, edge_labels=edge_labels, font_color='blue')\n",
    "\n",
    "# Vẽ trọng số trên các đỉnh\n",
    "for node, (x, y) in pos.items():\n",
    "    plt.text(x, y + 0.15, f'w={node_weights[node]}', fontsize=9, ha='center', color='darkgreen')\n",
    "\n",
    "# Vẽ đường thẳng x = 2.5\n",
    "plt.axvline(x=2.5, color='purple', linestyle='--', label='x = 2.5')\n",
    "\n",
    "# Hiển thị chú thích\n",
    "plt.legend()\n",
    "\n",
    "# Đặt tiêu đề cho đồ thị\n",
    "plt.title(\"Đồ thị cây có hướng với trọng số các đỉnh và cạnh\")\n",
    "\n",
    "# Hiển thị đồ thị\n",
    "plt.show()\n"
   ]
  },
  {
   "cell_type": "code",
   "execution_count": 2,
   "metadata": {},
   "outputs": [],
   "source": [
    "\n",
    "# Hàm DFS để xác định cây con\n",
    "def dfs_subtree(graph, start_node):\n",
    "    visited = set()\n",
    "    stack = [start_node]\n",
    "    subtree_nodes = set()\n",
    "\n",
    "    while stack:\n",
    "        node = stack.pop()\n",
    "        if node not in visited:\n",
    "            visited.add(node)\n",
    "            subtree_nodes.add(node)\n",
    "            stack.extend([n for n in graph.successors(node) if n not in visited])\n",
    "\n",
    "    return subtree_nodes\n"
   ]
  },
  {
   "cell_type": "code",
   "execution_count": 3,
   "metadata": {},
   "outputs": [
    {
     "name": "stdout",
     "output_type": "stream",
     "text": [
      "Gốc của cây lớn ban đầu là: p1\n",
      "Các đỉnh của cây lớn có gốc là p1: {'p1', 'p3', 'x2', 'x3', 'x1', 'p2'}\n",
      "Các đỉnh của cây con có gốc là x1: {'x1'}\n",
      "Trọng số của cây con có gốc là x1: -3\n",
      "Độ dài cạnh (p1, x1) là: 1.5\n",
      "Trọng số của đỉnh x1 là: -3\n"
     ]
    }
   ],
   "source": [
    "\n",
    "# Xác định gốc của cây lớn ban đầu (điểm hình chiếu có tung độ lớn nhất)\n",
    "root = max([\"p1\", \"p2\", \"p3\"], key=lambda k: G.nodes[k]['pos'][1])\n",
    "print(f\"Gốc của cây lớn ban đầu là: {root}\")\n",
    "\n",
    "# Xác định cây lớn ban đầu có gốc là root (p1)\n",
    "tree_nodes = dfs_subtree(G, root)\n",
    "print(f\"Các đỉnh của cây lớn có gốc là {root}: {tree_nodes}\")\n",
    "\n",
    "# Xác định cây con có gốc là p3\n",
    "subtree_root = \"x1\"\n",
    "subtree_nodes = dfs_subtree(G, subtree_root)\n",
    "print(f\"Các đỉnh của cây con có gốc là {subtree_root}: {subtree_nodes}\")\n",
    "\n",
    "# Tính tổng trọng số của cây con\n",
    "subtree_weight = sum(G.nodes[node]['weight'] for node in subtree_nodes)\n",
    "print(f\"Trọng số của cây con có gốc là {subtree_root}: {subtree_weight}\")\n",
    "\n",
    "# In ra độ dài cạnh (p1, x1)\n",
    "edge_length_p1_x1 = G[\"p1\"][\"x1\"][\"weight\"]\n",
    "print(f\"Độ dài cạnh (p1, x1) là: {edge_length_p1_x1}\")\n",
    "\n",
    "# In ra trọng số của các đỉnh x1, x2, x3\n",
    "print(f\"Trọng số của đỉnh x1 là: {G.nodes['x1']['weight']}\")"
   ]
  },
  {
   "cell_type": "code",
   "execution_count": 4,
   "metadata": {},
   "outputs": [
    {
     "name": "stdout",
     "output_type": "stream",
     "text": [
      "Ma trận trọng số của tất cả các cây con (1 dòng):\n",
      "[[-3  2  1  1  3  0]]\n",
      "cac cay con: [{'x1'}, {'x2'}, {'x3'}, {'x3', 'p3'}, {'x2', 'p2', 'x3', 'p3'}, {'p1', 'p3', 'x2', 'x1', 'p2', 'x3'}]\n"
     ]
    }
   ],
   "source": [
    "import numpy as np\n",
    "\n",
    "# Hàm để lấy tất cả các cây con từ một đỉnh\n",
    "def get_all_subtrees(graph, start_node):\n",
    "    visited = set()\n",
    "    subtrees = []\n",
    "\n",
    "    def dfs(node):\n",
    "        visited.add(node)\n",
    "        subtree_nodes = {node}\n",
    "        for successor in graph.successors(node):\n",
    "            if successor not in visited:\n",
    "                subtree_nodes.update(dfs(successor))\n",
    "        subtrees.append(subtree_nodes)\n",
    "        return subtree_nodes\n",
    "\n",
    "    dfs(start_node)\n",
    "    return subtrees\n",
    "\n",
    "# Xác định tất cả các cây con từ gốc của cây lớn\n",
    "root = max([\"p1\", \"p2\", \"p3\"], key=lambda k: G.nodes[k]['pos'][1])  # Gốc của cây lớn\n",
    "all_subtrees = get_all_subtrees(G, root)\n",
    "\n",
    "\n",
    "# Khởi tạo danh sách để lưu trữ trọng số của các cây con\n",
    "subtree_weights = []\n",
    "\n",
    "# Tính tổng trọng số cho mỗi cây con\n",
    "for subtree in all_subtrees:\n",
    "    total_weight = sum(G.nodes[node]['weight'] for node in subtree)\n",
    "    subtree_weights.append(total_weight)\n",
    "\n",
    "# Chuyển danh sách thành ma trận một dòng\n",
    "subtree_weights_matrix = np.array(subtree_weights).reshape(1, -1)\n",
    "\n",
    "# Hiển thị ma trận\n",
    "print(\"Ma trận trọng số của tất cả các cây con (1 dòng):\")\n",
    "print(subtree_weights_matrix)\n",
    "print('cac cay con:', all_subtrees)"
   ]
  },
  {
   "cell_type": "code",
   "execution_count": 5,
   "metadata": {},
   "outputs": [],
   "source": [
    "import numpy as np\n",
    "\n",
    "# Giả sử bạn đã có đồ thị G và các điểm dữ liệu\n",
    "data_points = [f\"x{i}\" for i in range(1, 4)]  # Tạo danh sách x1, x2, x3\n",
    "projection_points = [f\"p{i}\" for i in range(1, 4)]  # Tạo danh sách p1, p2, p3\n",
    "\n",
    "# Khởi tạo danh sách edges_order theo thứ tự mong muốn\n",
    "edges_order = []\n",
    "\n",
    "# Tạo các cặp đỉnh theo thứ tự mong muốn\n",
    "for i in range(len(data_points)):\n",
    "    edges_order.append((projection_points[i], data_points[i]))  # tạo cạnh p1 với x1, p2 với x2, p3 với x3\n"
   ]
  },
  {
   "cell_type": "code",
   "execution_count": 6,
   "metadata": {},
   "outputs": [
    {
     "name": "stdout",
     "output_type": "stream",
     "text": [
      "3\n",
      "2\n",
      "1\n",
      "0\n"
     ]
    }
   ],
   "source": [
    "print(len(projection_points))\n",
    "for i in range(len(projection_points) - 1,-1,-1):\n",
    "    print(i)"
   ]
  },
  {
   "cell_type": "code",
   "execution_count": 7,
   "metadata": {},
   "outputs": [
    {
     "name": "stdout",
     "output_type": "stream",
     "text": [
      "danh sách các cạnh theo thứ tự  [('p1', 'x1'), ('p2', 'x2'), ('p3', 'x3'), ('p2', 'p3'), ('p1', 'p2')]\n",
      "Ma trận độ dài các cạnh theo thứ tự mong muốn (1 dòng):\n",
      "[[1.5 0.5 1.5 1.  1.  0. ]]\n"
     ]
    }
   ],
   "source": [
    "\n",
    "# Khởi tạo danh sách để lưu trữ độ dài các cạnh\n",
    "edge_lengths = []\n",
    "# Thêm các cặp hình chiếu với nhau\n",
    "for i in range(len(projection_points) - 1,0,-1):\n",
    "    edges_order.append((projection_points[i-1], projection_points[i]))  # Kết nối p1 với p2, p2 với p3\n",
    "\n",
    "\n",
    "# Duyệt qua các cặp đỉnh và lấy độ dài\n",
    "for u, v in edges_order:\n",
    "    if G.has_edge(u, v):\n",
    "        edge_lengths.append(G[u][v]['weight'])\n",
    "    else:\n",
    "        edge_lengths.append(0)  # Nếu không có cạnh, có thể gán 0 hoặc giá trị khác\n",
    "\n",
    "# Chuyển danh sách thành ma trận một dòng\n",
    "edge_lengths_matrix = np.array(edge_lengths).reshape(1, -1)\n",
    "# Thêm phần tử 0 vào cuối ma trận\n",
    "edge_lengths_matrix = np.append(edge_lengths_matrix, [[0]], axis=1)\n",
    "\n",
    "print(\"danh sách các cạnh theo thứ tự \", edges_order)\n",
    "# Hiển thị ma trận\n",
    "print(\"Ma trận độ dài các cạnh theo thứ tự mong muốn (1 dòng):\")\n",
    "print(edge_lengths_matrix)"
   ]
  },
  {
   "cell_type": "code",
   "execution_count": null,
   "metadata": {},
   "outputs": [
    {
     "name": "stdout",
     "output_type": "stream",
     "text": [
      "Gia tri OT:  [[11.]]\n"
     ]
    }
   ],
   "source": [
    "# Ma tran trong so cua cay doi ve trị tuyet doi\n",
    "subtree_weights_matrix_abs = np.abs(subtree_weights_matrix)\n",
    "OT= np.dot(edge_lengths_matrix, subtree_weights_matrix_abs.T ) #nho chuyen vi ma tran\n",
    "print('Gia tri OT: ', OT)\n"
   ]
  }
 ],
 "metadata": {
  "kernelspec": {
   "display_name": "Python 3",
   "language": "python",
   "name": "python3"
  },
  "language_info": {
   "codemirror_mode": {
    "name": "ipython",
    "version": 3
   },
   "file_extension": ".py",
   "mimetype": "text/x-python",
   "name": "python",
   "nbconvert_exporter": "python",
   "pygments_lexer": "ipython3",
   "version": "3.13.1"
  }
 },
 "nbformat": 4,
 "nbformat_minor": 2
}
